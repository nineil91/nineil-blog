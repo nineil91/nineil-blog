{
 "cells": [
  {
   "attachments": {},
   "cell_type": "markdown",
   "metadata": {},
   "source": [
    "# 사진 분류 Deep Learning 모델 학습 시키기"
   ]
  },
  {
   "attachments": {},
   "cell_type": "markdown",
   "metadata": {},
   "source": [
    "#### \" 고양이 사진 분류기이면 고양이 사진만 학습 시키고 테스트가 가능할까? \"\n",
    "\n",
    "결론부터 말하자면 아니다. test 데이터에 대한 결과는 training data에 기반하여 나오기에 training 데이터를 학습시킬 필요는 없다.\n",
    "\n",
    "즉, 그 모델을 찾은 출처에서 사용한 방법대로 모델을 사용 할 필요가 없다는 말이다.\n",
    "\n"
   ]
  },
  {
   "cell_type": "code",
   "execution_count": null,
   "metadata": {},
   "outputs": [],
   "source": []
  }
 ],
 "metadata": {
  "language_info": {
   "name": "python"
  },
  "orig_nbformat": 4
 },
 "nbformat": 4,
 "nbformat_minor": 2
}
