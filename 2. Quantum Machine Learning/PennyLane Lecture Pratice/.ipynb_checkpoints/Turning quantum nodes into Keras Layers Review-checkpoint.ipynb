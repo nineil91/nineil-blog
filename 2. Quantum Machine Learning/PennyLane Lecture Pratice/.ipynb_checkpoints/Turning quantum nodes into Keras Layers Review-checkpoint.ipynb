{
 "cells": [
  {
   "cell_type": "markdown",
   "id": "2628dcb2",
   "metadata": {},
   "source": [
    "# Turning quantum nodes into Keras layers Review\n",
    "\n",
    "link : https://pennylane.ai/qml/demos/tutorial_qnn_module_tf.html\n"
   ]
  },
  {
   "cell_type": "markdown",
   "id": "167050a8",
   "metadata": {},
   "source": [
    "#### Hybrid ML에서 qnode를 어떻게 연결 할 수 있을까?\n",
    "Keras를 이용하여 연결한다. "
   ]
  },
  {
   "cell_type": "code",
   "execution_count": 3,
   "id": "2ab0de90",
   "metadata": {},
   "outputs": [],
   "source": [
    "import tensorflow as tf\n",
    "\n",
    "tf.keras.backend.set_floatx('float64')\n",
    "\n",
    "layer_1 = tf.keras.layers.Dense(2)\n",
    "layer_2 = tf.keras.layers.Dense(2, activation=\"softmax\")\n",
    "\n",
    "model = tf.keras.Sequential([layer_1, layer_2])\n",
    "model.compile(loss=\"mae\")"
   ]
  },
  {
   "cell_type": "code",
   "execution_count": null,
   "id": "684be3cd",
   "metadata": {},
   "outputs": [],
   "source": []
  }
 ],
 "metadata": {
  "kernelspec": {
   "display_name": "Python 3 (ipykernel)",
   "language": "python",
   "name": "python3"
  },
  "language_info": {
   "codemirror_mode": {
    "name": "ipython",
    "version": 3
   },
   "file_extension": ".py",
   "mimetype": "text/x-python",
   "name": "python",
   "nbconvert_exporter": "python",
   "pygments_lexer": "ipython3",
   "version": "3.9.13"
  }
 },
 "nbformat": 4,
 "nbformat_minor": 5
}
